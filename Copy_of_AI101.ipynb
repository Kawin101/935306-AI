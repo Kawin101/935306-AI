{
  "nbformat": 4,
  "nbformat_minor": 0,
  "metadata": {
    "colab": {
      "provenance": [],
      "authorship_tag": "ABX9TyNKR3nzrV5Dt9euZduTWdR4",
      "include_colab_link": true
    },
    "kernelspec": {
      "name": "python3",
      "display_name": "Python 3"
    },
    "language_info": {
      "name": "python"
    }
  },
  "cells": [
    {
      "cell_type": "markdown",
      "metadata": {
        "id": "view-in-github",
        "colab_type": "text"
      },
      "source": [
        "<a href=\"https://colab.research.google.com/github/Kawin101/935306-AI/blob/main/Copy_of_AI101.ipynb\" target=\"_parent\"><img src=\"https://colab.research.google.com/assets/colab-badge.svg\" alt=\"Open In Colab\"/></a>"
      ]
    },
    {
      "cell_type": "code",
      "execution_count": null,
      "metadata": {
        "colab": {
          "base_uri": "https://localhost:8080/",
          "height": 659
        },
        "id": "NW9s-wn1fcgc",
        "outputId": "27c64451-ff23-44d6-81bd-0e36df5a9c28"
      },
      "outputs": [
        {
          "output_type": "stream",
          "name": "stdout",
          "text": [
            "14. 633410020-9 นายพชรพล คนเพียร\n",
            "34. 633410077-0 นางสาวธิดารัตน์ มาทา\n",
            "50. 633410142-5 นายกวินภพ ชมนิกร\n",
            "                               \n",
            " ** The Shortest Path is :  ** \n",
            "A -> C = 8 km.\n",
            "C -> H = 2 km.\n",
            "Total: [A -> C -> H] = 10 km.\n",
            " ** The Big lane size is : **\n",
            "Max size Lane = A -> C 4 lane.\n",
            "Max size Lane = C -> H 4 lane.\n",
            "Total: [A -> C -> H] = 8 lane.\n",
            " ** The best road is : **\n",
            "A -> B = 7.6\n",
            "B -> E = 5.6\n",
            "Total : [A -> B -> E] = 13.2\n",
            " **Other** | Goal: A > C > E\n",
            "Step1: A -> C = 8 km.  ||  4 lane.\n",
            "Step2: A -> C -> A 16 km.  ||  4 lane.\n",
            "Step3: A -> C -> A -> B 26 km.  ||  4 lane.\n",
            "Step4: A -> C -> A -> B -> E 34 km.  ||  2 lane.\n"
          ]
        },
        {
          "output_type": "display_data",
          "data": {
            "text/plain": [
              "<Figure size 432x288 with 3 Axes>"
            ],
            "image/png": "[encoded data removed]"
          },
          "metadata": {
            "needs_background": "light"
          }
        }
      ],
      "source": [
        "import numpy as np\n",
        "import matplotlib.pyplot as plt\n",
        "\n",
        "# Define\n",
        "\n",
        "# ** Point 2 **\n",
        "# Route 1 (km.)\n",
        "A = 0\n",
        "B = 0\n",
        "C = 0\n",
        "AtoB = 10\n",
        "BtoE = 8\n",
        "BtoF = 6\n",
        "\n",
        "AtoC = 8\n",
        "CtoG = 4\n",
        "CtoH = 2\n",
        "\n",
        "# Route 2 (lane.)\n",
        "LAtoB = 4\n",
        "LBtoE = 2\n",
        "LBtoF = 2\n",
        "\n",
        "LAtoC = 4\n",
        "LCtoG = 2\n",
        "LCtoH = 4\n",
        "\n",
        "# Set vule to fine min of position (หาตำแหน่งที่ใกล้ที่สุด)\n",
        "kmMin01 = min(AtoB, AtoC)\n",
        "kmMin02 = min(BtoE, BtoF, CtoG, CtoH)\n",
        "print('14. 633410020-9 นายพชรพล คนเพียร')\n",
        "print('34. 633410077-0 นางสาวธิดารัตน์ มาทา')\n",
        "print('50. 633410142-5 นายกวินภพ ชมนิกร')\n",
        "print('                               ')\n",
        "print(' ** The Shortest Path is :  ** ')\n",
        "print('A -> C =', kmMin01 , 'km.')\n",
        "print('C -> H =', kmMin02 , 'km.')\n",
        "print('Total: [A -> C -> H] =',kmMin01+kmMin02, 'km.')\n",
        "\n",
        "# Max lane size find\n",
        "laneMin01 = max(LAtoB, LAtoC)\n",
        "laneMin02 = max(LBtoE, LBtoF, LCtoG, LCtoH)\n",
        "print(' ** The Big lane size is : **')\n",
        "\n",
        "if AtoB > AtoC:\n",
        "  print('Max size Lane = A -> C', laneMin01, 'lane.')\n",
        "else:\n",
        "  print('going to A -> B')\n",
        "\n",
        "if CtoG > CtoH:\n",
        "  print('Max size Lane = C -> H', laneMin02, 'lane.')\n",
        "else:\n",
        "  print('goint to C -> G')\n",
        "\n",
        "if AtoB > AtoC:\n",
        "  if CtoG > CtoH:\n",
        "    print('Total: [A -> C -> H] =', laneMin01+laneMin02, 'lane.')\n",
        "\n",
        "# ** Point 3 **\n",
        "# Define\n",
        "SH01 = (60/100)\n",
        "SH02 = (40/100)\n",
        "\n",
        "# Route 1 (Fine best result)\n",
        "math01 = AtoB * SH01 + LAtoB * SH02\n",
        "math02 = AtoC * SH01 + LAtoC * SH02\n",
        "math03 = BtoE * SH01 + LBtoE * SH02\n",
        "math04 = BtoF * SH01 + LBtoF * SH02\n",
        "math05 = CtoG * SH01 + LCtoG * SH02\n",
        "math06 = CtoH * SH01 + LCtoH * SH02\n",
        "\n",
        "print(' ** The best road is : **')\n",
        "if math01 > math02: \n",
        "  print('A -> B =', math01)\n",
        "else:\n",
        "  print('A -> C =', math02)\n",
        "\n",
        "if math03 > math04:\n",
        "  print('B -> E =', math03)\n",
        "else:\n",
        "  print('B -> F =', math04)\n",
        "\n",
        "#if math05 > math06:\n",
        "  #print('C -> G =', math05, )\n",
        "#else:\n",
        "  #print('C -> H =', math06)\n",
        "\n",
        "if math01 > math02:\n",
        "  if math03 > math04:\n",
        "    print('Total : [A -> B -> E] =',math01+math03)\n",
        "\n",
        "# ** Point 4 **\n",
        "# Define (A -> C -> E)\n",
        "# Short Time\n",
        "# Best Road\n",
        "\n",
        "print(' **Other** | Goal: A > C > E')\n",
        "if AtoB > AtoC: # A->C\n",
        "  print('Step1: A -> C =', AtoC, 'km.', ' || ', LAtoC, 'lane.')\n",
        "  if AtoC < AtoB: # C->A\n",
        "    print('Step2: A -> C -> A', AtoC+AtoC, 'km.', ' || ', (LAtoC), 'lane.')\n",
        "    if AtoB > AtoC: \n",
        "      print('Step3: A -> C -> A -> B', AtoC+AtoC+AtoB, 'km.', ' || ', (C+LAtoB), 'lane.')\n",
        "      if BtoE > BtoF:\n",
        "        print('Step4: A -> C -> A -> B -> E', AtoC+AtoC+AtoB+BtoE, 'km.', ' || ', (LBtoE), 'lane.')\n",
        "\n",
        "# ** Point 1 **\n",
        "# Output\n",
        "plt.subplot(331),plt.plot([A,LAtoC,LCtoH],[A,AtoC,CtoH])\n",
        "plt.xlabel('x - lane.')\n",
        "plt.ylabel('y - km.')\n",
        "plt.title('ShortestPath&BigLane (A>C>H)')\n",
        "\n",
        "plt.subplot(335),plt.plot([A,LAtoB,LBtoE],[A,AtoB,BtoE])\n",
        "plt.xlabel('x - lane.')\n",
        "plt.ylabel('y - km.')\n",
        "plt.title('Best Road (A>B>E)')\n",
        "\n",
        "plt.subplot(339),plt.plot([A,LAtoC,(LAtoC+LAtoC)/2,LAtoB,LBtoE],[A,AtoC,AtoC+AtoC,AtoB,BtoE])\n",
        "plt.xlabel('x - lane.')\n",
        "plt.ylabel('y - km.')\n",
        "plt.title('Other (A>C>A>B>E)')\n",
        "\n",
        "plt.show()"
      ]
    }
  ]
}